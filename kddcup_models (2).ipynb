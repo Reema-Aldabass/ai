{
  "nbformat": 4,
  "nbformat_minor": 0,
  "metadata": {
    "colab": {
      "provenance": [],
      "gpuType": "T4"
    },
    "kernelspec": {
      "name": "python3",
      "display_name": "Python 3"
    },
    "language_info": {
      "name": "python"
    },
    "accelerator": "GPU"
  },
  "cells": [
    {
      "cell_type": "code",
      "source": [
        "# The project is about analyzing and classifying network intrusion data\n",
        "# the dataset is : KDD Cup 1999 Data\n",
        "# Data Size: contains over 4.9 million records\n",
        "# Multi-class"
      ],
      "metadata": {
        "id": "l02TAtjjXF5e"
      },
      "execution_count": null,
      "outputs": []
    },
    {
      "cell_type": "code",
      "execution_count": null,
      "metadata": {
        "colab": {
          "base_uri": "https://localhost:8080/"
        },
        "id": "k1lf5LbUS3g7",
        "outputId": "a6498a74-8476-4cde-99b0-0cb46987699e"
      },
      "outputs": [
        {
          "output_type": "stream",
          "name": "stdout",
          "text": [
            "Tue Apr 15 13:49:45 2025       \n",
            "+-----------------------------------------------------------------------------------------+\n",
            "| NVIDIA-SMI 550.54.15              Driver Version: 550.54.15      CUDA Version: 12.4     |\n",
            "|-----------------------------------------+------------------------+----------------------+\n",
            "| GPU  Name                 Persistence-M | Bus-Id          Disp.A | Volatile Uncorr. ECC |\n",
            "| Fan  Temp   Perf          Pwr:Usage/Cap |           Memory-Usage | GPU-Util  Compute M. |\n",
            "|                                         |                        |               MIG M. |\n",
            "|=========================================+========================+======================|\n",
            "|   0  Tesla T4                       Off |   00000000:00:04.0 Off |                    0 |\n",
            "| N/A   43C    P8              9W /   70W |       0MiB /  15360MiB |      0%      Default |\n",
            "|                                         |                        |                  N/A |\n",
            "+-----------------------------------------+------------------------+----------------------+\n",
            "                                                                                         \n",
            "+-----------------------------------------------------------------------------------------+\n",
            "| Processes:                                                                              |\n",
            "|  GPU   GI   CI        PID   Type   Process name                              GPU Memory |\n",
            "|        ID   ID                                                               Usage      |\n",
            "|=========================================================================================|\n",
            "|  No running processes found                                                             |\n",
            "+-----------------------------------------------------------------------------------------+\n"
          ]
        }
      ],
      "source": [
        "# Check GPU availability\n",
        "!nvidia-smi"
      ]
    },
    {
      "cell_type": "code",
      "source": [
        "import cudf\n",
        "import cuml\n",
        "import cupy as cp\n",
        "import time\n",
        "import seaborn as sns\n",
        "import matplotlib.pyplot as plt\n",
        "from cuml.model_selection import train_test_split\n",
        "from cuml.preprocessing import StandardScaler, LabelEncoder\n",
        "from cuml.linear_model import LogisticRegression\n",
        "from cuml.ensemble import RandomForestClassifier\n",
        "from cuml.neighbors import KNeighborsClassifier\n",
        "from cuml.metrics import accuracy_score\n",
        "from sklearn.utils import resample\n",
        "import pandas as pd\n",
        "import os\n",
        "\n"
      ],
      "metadata": {
        "id": "e0jr2_A8UCEL"
      },
      "execution_count": null,
      "outputs": []
    },
    {
      "cell_type": "code",
      "source": [
        "!wget http://kdd.ics.uci.edu/databases/kddcup99/kddcup.data.gz\n",
        "!gunzip -f kddcup.data.gz"
      ],
      "metadata": {
        "id": "aqBotfVaUUQF",
        "colab": {
          "base_uri": "https://localhost:8080/"
        },
        "outputId": "0d2c534a-e522-484e-8075-3ec3ffdba96d"
      },
      "execution_count": null,
      "outputs": [
        {
          "output_type": "stream",
          "name": "stdout",
          "text": [
            "--2025-04-15 20:08:19--  http://kdd.ics.uci.edu/databases/kddcup99/kddcup.data.gz\n",
            "Resolving kdd.ics.uci.edu (kdd.ics.uci.edu)... 128.195.1.86\n",
            "Connecting to kdd.ics.uci.edu (kdd.ics.uci.edu)|128.195.1.86|:80... connected.\n",
            "HTTP request sent, awaiting response... 200 OK\n",
            "Length: 18115902 (17M) [application/x-gzip]\n",
            "Saving to: ‘kddcup.data.gz’\n",
            "\n",
            "kddcup.data.gz      100%[===================>]  17.28M  60.7MB/s    in 0.3s    \n",
            "\n",
            "2025-04-15 20:08:19 (60.7 MB/s) - ‘kddcup.data.gz’ saved [18115902/18115902]\n",
            "\n"
          ]
        }
      ]
    },
    {
      "cell_type": "code",
      "source": [
        "column_names = [\n",
        "    'protocol_type', 'service', 'flag', 'src_bytes', 'dst_bytes', 'land',\n",
        "    'wrong_fragment', 'urgent', 'hot', 'num_failed_logins', 'logged_in',\n",
        "    'num_compromised', 'root_shell', 'su_attempted', 'num_root',\n",
        "    'num_file_creations', 'num_shells', 'num_access_files',\n",
        "    'num_outbound_cmds', 'is_host_login', 'is_guest_login', 'count',\n",
        "    'srv_count', 'serror_rate', 'srv_serror_rate', 'rerror_rate',\n",
        "    'srv_rerror_rate', 'same_srv_rate', 'diff_srv_rate',\n",
        "    'srv_diff_host_rate', 'dst_host_count', 'dst_host_srv_count',\n",
        "    'dst_host_same_srv_rate', 'dst_host_diff_srv_rate',\n",
        "    'dst_host_same_src_port_rate', 'dst_host_srv_diff_host_rate',\n",
        "    'dst_host_serror_rate', 'dst_host_srv_serror_rate',\n",
        "    'dst_host_rerror_rate', 'dst_host_srv_rerror_rate', 'label'\n",
        "]"
      ],
      "metadata": {
        "id": "7SqsvxO_zzdD"
      },
      "execution_count": null,
      "outputs": []
    },
    {
      "cell_type": "code",
      "source": [
        "N_SAMPLES = 3000000\n",
        "# GPU Data Loading\n",
        "start_time = time.time()\n",
        "gdf = cudf.read_csv('kddcup.data', nrows=N_SAMPLES, header=None, names=column_names)\n",
        "load_time = time.time() - start_time\n",
        "print(f\"GPU data loading time: {load_time:.2f} seconds\")\n",
        "\n"
      ],
      "metadata": {
        "id": "3Hty7upyVf_f",
        "colab": {
          "base_uri": "https://localhost:8080/"
        },
        "outputId": "5d2d7f26-d18d-4dcc-b586-321df91a7523"
      },
      "execution_count": null,
      "outputs": [
        {
          "output_type": "stream",
          "name": "stdout",
          "text": [
            "GPU data loading time: 0.69 seconds\n"
          ]
        }
      ]
    },
    {
      "cell_type": "code",
      "source": [
        "print(\"\\n First five columns\")\n",
        "print(gdf.head())\n",
        "\n",
        "print(\"\\n Distribution of categories:\")\n",
        "print(gdf['label'].value_counts())\n",
        "\n",
        "print(\"\\nNumber of missing values:\")\n",
        "print(gdf.isnull().sum())\n",
        "\n",
        "print(\"\\nDataset shape:\", gdf.shape)\n",
        "\n",
        "print(f\"Rows: {gdf.shape[0]}\")\n",
        "print(f\"Columns : {gdf.shape[1]}\")"
      ],
      "metadata": {
        "id": "L-Irbm410DyD",
        "colab": {
          "base_uri": "https://localhost:8080/"
        },
        "outputId": "8b47a96b-1a3f-47da-d0ba-e309cbde26bb"
      },
      "execution_count": null,
      "outputs": [
        {
          "output_type": "stream",
          "name": "stdout",
          "text": [
            "\n",
            " First five columns\n",
            "   protocol_type service  flag src_bytes  dst_bytes   land  wrong_fragment  \\\n",
            "0              0     tcp  http        SF        215  45076               0   \n",
            "1              0     tcp  http        SF        162   4528               0   \n",
            "2              0     tcp  http        SF        236   1228               0   \n",
            "3              0     tcp  http        SF        233   2032               0   \n",
            "4              0     tcp  http        SF        239    486               0   \n",
            "\n",
            "   urgent  hot  num_failed_logins  ...  dst_host_srv_count  \\\n",
            "0       0    0                  0  ...                   0   \n",
            "1       0    0                  0  ...                   1   \n",
            "2       0    0                  0  ...                   2   \n",
            "3       0    0                  0  ...                   3   \n",
            "4       0    0                  0  ...                   4   \n",
            "\n",
            "   dst_host_same_srv_rate  dst_host_diff_srv_rate  \\\n",
            "0                       0                     0.0   \n",
            "1                       1                     1.0   \n",
            "2                       2                     1.0   \n",
            "3                       3                     1.0   \n",
            "4                       4                     1.0   \n",
            "\n",
            "   dst_host_same_src_port_rate  dst_host_srv_diff_host_rate  \\\n",
            "0                          0.0                         0.00   \n",
            "1                          0.0                         1.00   \n",
            "2                          0.0                         0.50   \n",
            "3                          0.0                         0.33   \n",
            "4                          0.0                         0.25   \n",
            "\n",
            "   dst_host_serror_rate  dst_host_srv_serror_rate  dst_host_rerror_rate  \\\n",
            "0                   0.0                       0.0                   0.0   \n",
            "1                   0.0                       0.0                   0.0   \n",
            "2                   0.0                       0.0                   0.0   \n",
            "3                   0.0                       0.0                   0.0   \n",
            "4                   0.0                       0.0                   0.0   \n",
            "\n",
            "   dst_host_srv_rerror_rate  label  \n",
            "0                       0.0    0.0  \n",
            "1                       0.0    0.0  \n",
            "2                       0.0    0.0  \n",
            "3                       0.0    0.0  \n",
            "4                       0.0    0.0  \n",
            "\n",
            "[5 rows x 41 columns]\n",
            "\n",
            " Distribution of categories:\n",
            "label\n",
            "0.00    2924875\n",
            "1.00      35693\n",
            "0.01      12348\n",
            "0.98       2329\n",
            "0.02       2262\n",
            "         ...   \n",
            "0.28          6\n",
            "0.31          6\n",
            "0.27          6\n",
            "0.26          5\n",
            "0.30          3\n",
            "Name: count, Length: 101, dtype: int64\n",
            "\n",
            "Number of missing values:\n",
            "protocol_type                  0\n",
            "service                        0\n",
            "flag                           0\n",
            "src_bytes                      0\n",
            "dst_bytes                      0\n",
            "land                           0\n",
            "wrong_fragment                 0\n",
            "urgent                         0\n",
            "hot                            0\n",
            "num_failed_logins              0\n",
            "logged_in                      0\n",
            "num_compromised                0\n",
            "root_shell                     0\n",
            "su_attempted                   0\n",
            "num_root                       0\n",
            "num_file_creations             0\n",
            "num_shells                     0\n",
            "num_access_files               0\n",
            "num_outbound_cmds              0\n",
            "is_host_login                  0\n",
            "is_guest_login                 0\n",
            "count                          0\n",
            "srv_count                      0\n",
            "serror_rate                    0\n",
            "srv_serror_rate                0\n",
            "rerror_rate                    0\n",
            "srv_rerror_rate                0\n",
            "same_srv_rate                  0\n",
            "diff_srv_rate                  0\n",
            "srv_diff_host_rate             0\n",
            "dst_host_count                 0\n",
            "dst_host_srv_count             0\n",
            "dst_host_same_srv_rate         0\n",
            "dst_host_diff_srv_rate         0\n",
            "dst_host_same_src_port_rate    0\n",
            "dst_host_srv_diff_host_rate    0\n",
            "dst_host_serror_rate           0\n",
            "dst_host_srv_serror_rate       0\n",
            "dst_host_rerror_rate           0\n",
            "dst_host_srv_rerror_rate       0\n",
            "label                          0\n",
            "dtype: int64\n",
            "\n",
            "Dataset shape: (3000000, 41)\n",
            "Rows: 3000000\n",
            "Columns : 41\n"
          ]
        }
      ]
    },
    {
      "cell_type": "code",
      "source": [
        "print(\"\\n Distribution of labels (Multi-class):\")\n",
        "print(gdf['label'].value_counts())"
      ],
      "metadata": {
        "colab": {
          "base_uri": "https://localhost:8080/"
        },
        "id": "_HFbWEjjD1YZ",
        "outputId": "d42fe291-874f-4f6c-b7a6-79ec35507a87"
      },
      "execution_count": null,
      "outputs": [
        {
          "output_type": "stream",
          "name": "stdout",
          "text": [
            "\n",
            " Distribution of binary labels:\n",
            "binary_label\n",
            "1    3000000\n",
            "Name: count, dtype: int64\n"
          ]
        }
      ]
    },
    {
      "cell_type": "code",
      "source": [
        "label_counts = gdf['label'].to_pandas().value_counts()\n",
        "plt.figure(figsize=(12, 6))\n",
        "sns.barplot(x=label_counts.index.astype(str), y=label_counts.values)\n",
        "plt.xticks(rotation=90)\n",
        "plt.title(\"Distribution of Labels in the Dataset\")\n",
        "plt.xlabel(\"Label\")\n",
        "plt.ylabel(\"Count\")\n",
        "plt.tight_layout()\n",
        "plt.show()\n"
      ],
      "metadata": {
        "id": "aUCXXIPl-V-x"
      },
      "execution_count": null,
      "outputs": []
    },
    {
      "cell_type": "code",
      "source": [
        "# num_outbound_cmds # يقيس عدد الاوامر الخارجة من الضحيه وغالبا صفر فما ياثر  ولل له دخل بالنومرمال والاتاك\n",
        "# is_host_login  # لان العمود غالبا قيمتة صفر فبرضو ما يستفيد منه النموذج\n",
        "# su_attempted  # شي يتكون من الهجمات وما ياثر ايضا فبس بيسب نويز\n",
        "\n",
        "columns_to_drop = ['num_outbound_cmds', 'is_host_login', 'su_attempted']\n",
        "gdf = gdf.drop(columns=columns_to_drop)\n",
        "gdf = gdf.drop(columns=['src_bytes'])\n",
        "\n",
        "X = gdf.drop(columns=['label'])\n",
        "y = gdf['label']\n"
      ],
      "metadata": {
        "id": "eiqy2xxpcfQ1"
      },
      "execution_count": null,
      "outputs": []
    },
    {
      "cell_type": "code",
      "source": [
        "label_encoder = LabelEncoder()\n",
        "for col in ['protocol_type', 'service', 'flag']:\n",
        "    X[col] = label_encoder.fit_transform(X[col].astype(str))\n",
        "\n",
        "non_numeric_cols = []\n",
        "for col in X.columns:\n",
        "    try:\n",
        "        X[col] = cudf.to_numeric(X[col], errors='raise')\n",
        "    except Exception as e:\n",
        "        print(f\" العمود {col} فيه مشكلة: {e}\")\n",
        "        non_numeric_cols.append(col)\n",
        "\n",
        "X = X.drop(columns=non_numeric_cols)\n",
        "X = X.astype('float32')\n"
      ],
      "metadata": {
        "id": "VMpMH7CzuZXp"
      },
      "execution_count": null,
      "outputs": []
    },
    {
      "cell_type": "code",
      "source": [
        "X_train, X_test, y_train, y_test = train_test_split(X, y, test_size=0.2)\n",
        "X_train = X_train.fillna(0)\n",
        "X_test = X_test.fillna(0)\n",
        "\n",
        "start_time = time.time()\n",
        "scaler = StandardScaler()\n",
        "X_train_scaled = scaler.fit_transform(X_train)\n",
        "X_test_scaled = scaler.transform(X_test)\n",
        "X_test_scaled = X_test_scaled.fillna(0)\n",
        "y_test = y_test.fillna(0)\n",
        "preprocess_time = time.time() - start_time\n",
        "print(f\"GPU preprocessing time: {preprocess_time:.2f} seconds\")"
      ],
      "metadata": {
        "id": "92MmMGtbfTZD"
      },
      "execution_count": null,
      "outputs": []
    },
    {
      "cell_type": "code",
      "source": [
        "#Oversampling\n",
        "X_train_cpu = X_train_scaled.to_pandas()\n",
        "y_train_cpu = y_train.to_pandas()\n",
        "\n",
        "train_df = X_train_cpu.copy()\n",
        "train_df['label'] = y_train_cpu\n",
        "\n",
        "majority = train_df[train_df['label'] == 0]\n",
        "minority = train_df[train_df['label'] != 0]\n",
        "\n",
        "if len(minority) > 0:\n",
        "    minority_upsampled = resample(minority, replace=True, n_samples=len(majority), random_state=42)\n",
        "    balanced_df = cudf.DataFrame(pd.concat([majority, minority_upsampled]))\n",
        "    print(\" Data has been rebalanced.\")\n",
        "else:\n",
        "    balanced_df = cudf.DataFrame(train_df)\n",
        "    print(\" اFor the minority class, it is empty or contains very few data.\")\n",
        "\n",
        "X_train_scaled = balanced_df.drop('label', axis=1).astype('float32')\n",
        "X_train_scaled = X_train_scaled.fillna(0)\n",
        "y_train = balanced_df['label']\n",
        "y_train = y_train.fillna(0)\n"
      ],
      "metadata": {
        "id": "BR-GYPHkhalU"
      },
      "execution_count": null,
      "outputs": []
    },
    {
      "cell_type": "code",
      "source": [
        "correlation_matrix = X_train_scaled.to_pandas().corr()\n",
        "plt.figure(figsize=(14, 10))\n",
        "sns.heatmap(correlation_matrix, cmap='coolwarm', center=0)\n",
        "plt.title(\"Heatmap of Feature Correlation\", fontsize=16)\n",
        "plt.tight_layout()\n",
        "plt.show()"
      ],
      "metadata": {
        "id": "6UxzclO8nQT-"
      },
      "execution_count": null,
      "outputs": []
    },
    {
      "cell_type": "code",
      "source": [
        "# sample_df = train_df.sample(n=5000, random_state=42)\n",
        "# profile = ProfileReport(sample_df, title=\" KDD99 Data Profiling Report\", explorative=True)\n",
        "# profile.to_file(\"kdd99_profiling_report.html\")\n",
        "# print(\"\\n The file saved kdd99_profiling_report.html\")\n"
      ],
      "metadata": {
        "id": "qBfMydAqifWb"
      },
      "execution_count": null,
      "outputs": []
    },
    {
      "cell_type": "code",
      "source": [
        "models = {\n",
        "    \"Logistic Regression\": LogisticRegression(max_iter=1000, solver='qn'),\n",
        "    \"Random Forest\": RandomForestClassifier(n_estimators=50),\n",
        "    \"KNN\": KNeighborsClassifier(n_neighbors=5)\n",
        "}\n",
        "\n",
        "for name, model in models.items():\n",
        "    print(f\"\\n Training {name}...\")\n",
        "    start = time.time()\n",
        "    model.fit(X_train_scaled, y_train)\n",
        "    print(f\"{name} training time: {time.time() - start:.2f} seconds\")\n"
      ],
      "metadata": {
        "id": "tBN4pO-AvCha"
      },
      "execution_count": null,
      "outputs": []
    },
    {
      "cell_type": "code",
      "source": [
        "def evaluate_model(model, name, X_test, y_test):\n",
        "    start = time.time()\n",
        "    y_pred = model.predict(X_test)\n",
        "    y_pred = y_pred.to_numpy() if isinstance(y_pred, (cudf.Series, cp.ndarray)) else y_pred\n",
        "    y_test_np = y_test.to_numpy() if isinstance(y_test, (cudf.Series, cp.ndarray)) else y_test\n",
        "    acc = accuracy_score(y_test_np, y_pred)\n",
        "    print(f\"\\n {name} Accuracy: {acc * 100:.2f}%\")\n",
        "    print(f\" {name} Prediction time: {time.time() - start:.2f} seconds\")\n",
        "\n",
        "for name, model in models.items():\n",
        "    evaluate_model(model, name, X_test_scaled, y_test)\n"
      ],
      "metadata": {
        "id": "PQ9d60d-vUeu"
      },
      "execution_count": null,
      "outputs": []
    },
    {
      "cell_type": "code",
      "source": [
        "from cuml.metrics import accuracy_score\n",
        "import joblib\n",
        "\n",
        "\n",
        "best_model = None\n",
        "best_score = 0\n",
        "best_name = \"\"\n",
        "\n",
        "for name, model in models.items():\n",
        "    y_pred = model.predict(X_test_scaled)\n",
        "    acc = accuracy_score(y_test.to_numpy(), y_pred.to_numpy())\n",
        "    if acc > best_score:\n",
        "        best_score = acc\n",
        "        best_model = model\n",
        "        best_name = name\n",
        "\n",
        "# بيطلع البست مودل حسب الاوتبوت فوق\n",
        "joblib.dump(best_model, 'model.joblib')\n",
        "joblib.dump(scaler, 'scalar.joblib')\n",
        "\n",
        "X_test_scaled.to_pandas().to_csv('X_test.csv', index=False)\n",
        "y_test.to_pandas().to_csv('y_test.csv', index=False)\n",
        "\n",
        "print(f\"\\n Saved best model: {best_name} with accuracy {best_score * 100:.2f}%\")\n",
        "\n"
      ],
      "metadata": {
        "id": "OKC4EjWo-8UT"
      },
      "execution_count": null,
      "outputs": []
    },
    {
      "cell_type": "code",
      "source": [
        "from cuml.metrics import accuracy_score\n",
        "import joblib\n",
        "import pandas as pd\n",
        "\n",
        "# انشات هنا ملف البردكشن\n",
        "prediction_script = \"\"\"\n",
        "import joblib\n",
        "import pandas as pd\n",
        "\n",
        "# حمل النماذج\n",
        "model = joblib.load('model.joblib')\n",
        "scaler = joblib.load('scalar.joblib')\n",
        "\n",
        "X_test = pd.read_csv('X_test.csv')\n",
        "X_test_scaled = scaler.transform(X_test)\n",
        "\n",
        "y_pred = model.predict(X_test_scaled)\n",
        "\n",
        "print(\"Predictions:\")\n",
        "print(y_pred)\n",
        "\n",
        "\n",
        "try:\n",
        "    y_test = pd.read_csv('y_test.csv')\n",
        "    from sklearn.metrics import accuracy_score\n",
        "    acc = accuracy_score(y_test, y_pred)\n",
        "    print(f\"Accuracy: {acc * 100:.2f}%\")\n",
        "except FileNotFoundError:\n",
        "    print(\"y_test.csv not found. Skipping accuracy.\")\n",
        "\"\"\"\n",
        "\n",
        "with open(\"prediction.py\", \"w\") as f:\n",
        "    f.write(prediction_script)\n",
        "\n",
        "print(\" Created prediction.py\")\n"
      ],
      "metadata": {
        "id": "IXK14dqUD45J"
      },
      "execution_count": null,
      "outputs": []
    }
  ]
}